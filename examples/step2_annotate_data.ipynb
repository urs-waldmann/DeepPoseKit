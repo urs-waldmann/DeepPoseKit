{
 "cells": [
  {
   "cell_type": "markdown",
   "metadata": {},
   "source": [
    "# DeepPoseKit Step 2 - Annotate your data\n",
    "\n",
    "This is step 2 of the example notebooks for using DeepPoseKit. This notebook shows you how to annotate your training data with user-defined keypoints using the saved data from step 1."
   ]
  },
  {
   "cell_type": "markdown",
   "metadata": {},
   "source": [
    "If you haven't already installed DeepPoseKit you can run the next cell"
   ]
  },
  {
   "cell_type": "code",
   "execution_count": null,
   "metadata": {},
   "outputs": [],
   "source": [
    "import sys\n",
    "!{sys.executable} -m pip install -U deepposekit"
   ]
  },
  {
   "cell_type": "code",
   "execution_count": 1,
   "metadata": {},
   "outputs": [],
   "source": [
    "from deepposekit import Annotator\n",
    "from os.path import expanduser\n",
    "import glob\n",
    "HOME = expanduser(\"~\")"
   ]
  },
  {
   "cell_type": "markdown",
   "metadata": {},
   "source": [
    "Annotation Hotkeys\n",
    "------------\n",
    "* <kbd>+</kbd><kbd>-</kbd> = rescale image by ±10%\n",
    "* <kbd>left mouse button</kbd> = move active keypoint to cursor location\n",
    "* <kbd>W</kbd><kbd>A</kbd><kbd>S</kbd><kbd>D</kbd> = move active keypoint 1px or 10px\n",
    "* <kbd>space</kbd> = change <kbd>W</kbd><kbd>A</kbd><kbd>S</kbd><kbd>D</kbd> mode (swaps between 1px or 10px movements)\n",
    "* <kbd>J</kbd><kbd>L</kbd> = next or previous image\n",
    "* <kbd><</kbd><kbd>></kbd> = jump 10 images forward or backward\n",
    "* <kbd>I</kbd>,<kbd>K</kbd> or <kbd>tab</kbd>, <kbd>shift</kbd>+<kbd>tab</kbd> = switch active keypoint\n",
    "* <kbd>R</kbd> = mark image as unannotated (\"reset\")\n",
    "* <kbd>F</kbd> = mark image as annotated (\"finished\")\n",
    "* <kbd>V</kbd> = mark active keypoint as visible\n",
    "* <kbd>esc</kbd> or <kbd>Q</kbd> = quit\n",
    "\n",
    "# Annotate data\n",
    "Annotations are saved automatically. \n",
    "The skeleton in each frame will turn blue when the frame is fully annotated. If there are no visible keypoints, this means the frame hasn't been annotated, so try clicking to position the keypoint in the frame."
   ]
  },
  {
   "cell_type": "code",
   "execution_count": 2,
   "metadata": {},
   "outputs": [
    {
     "name": "stderr",
     "output_type": "stream",
     "text": [
      "/home/urs/anaconda3/envs/DeepPoseKit/lib/python3.7/site-packages/deepposekit/annotate/gui/Annotator.py:185: H5pyDeprecationWarning: dataset.value has been deprecated. Use dataset[()] instead.\n",
      "  self.image_idx = np.sum(np.all(h5file[\"annotated\"].value, axis=1)) - 1\n"
     ]
    }
   ],
   "source": [
    "app = Annotator(datapath=HOME + '/Documents/programming/my_data_spider/spider_annotation_set.h5',\n",
    "                dataset='images',\n",
    "                skeleton=HOME + '/Documents/programming/my_data_spider/skeleton.csv',\n",
    "                shuffle_colors=False,\n",
    "                text_scale=0.2)"
   ]
  },
  {
   "cell_type": "code",
   "execution_count": 3,
   "metadata": {},
   "outputs": [
    {
     "name": "stderr",
     "output_type": "stream",
     "text": [
      "/home/urs/anaconda3/envs/DeepPoseKit/lib/python3.7/site-packages/deepposekit/annotate/gui/Annotator.py:199: H5pyDeprecationWarning: The default file mode will change to 'r' (read-only) in h5py 3.0. To suppress this warning, pass the mode you need to h5py.File(), or set the global default h5.get_config().default_file_mode, or set the environment variable H5PY_DEFAULT_READONLY=1. Available modes are: 'r', 'r+', 'w', 'w-'/'x', 'a'. See the docs for details.\n",
      "  with h5py.File(self.datapath) as h5file:\n",
      "/home/urs/anaconda3/envs/DeepPoseKit/lib/python3.7/site-packages/deepposekit/annotate/gui/Annotator.py:218: H5pyDeprecationWarning: The default file mode will change to 'r' (read-only) in h5py 3.0. To suppress this warning, pass the mode you need to h5py.File(), or set the global default h5.get_config().default_file_mode, or set the environment variable H5PY_DEFAULT_READONLY=1. Available modes are: 'r', 'r+', 'w', 'w-'/'x', 'a'. See the docs for details.\n",
      "  with h5py.File(self.datapath) as h5file:\n"
     ]
    },
    {
     "name": "stdout",
     "output_type": "stream",
     "text": [
      "Saved\n"
     ]
    }
   ],
   "source": [
    "app.run()"
   ]
  },
  {
   "cell_type": "code",
   "execution_count": null,
   "metadata": {},
   "outputs": [],
   "source": []
  }
 ],
 "metadata": {
  "kernelspec": {
   "display_name": "Python 3",
   "language": "python",
   "name": "python3"
  },
  "language_info": {
   "codemirror_mode": {
    "name": "ipython",
    "version": 3
   },
   "file_extension": ".py",
   "mimetype": "text/x-python",
   "name": "python",
   "nbconvert_exporter": "python",
   "pygments_lexer": "ipython3",
   "version": "3.7.6"
  }
 },
 "nbformat": 4,
 "nbformat_minor": 4
}
